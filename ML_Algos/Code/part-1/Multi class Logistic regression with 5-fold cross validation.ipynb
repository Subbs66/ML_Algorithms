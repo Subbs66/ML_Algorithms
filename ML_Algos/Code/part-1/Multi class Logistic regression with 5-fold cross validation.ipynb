{
 "cells": [
  {
   "cell_type": "code",
   "execution_count": 2,
   "metadata": {},
   "outputs": [],
   "source": [
    "#import all the necessory libraries\n",
    "import pandas as pd\n",
    "import numpy as np\n",
    "import matplotlib.pyplot as plt\n",
    "import os\n",
    "from mpl_toolkits import mplot3d"
   ]
  },
  {
   "cell_type": "markdown",
   "metadata": {},
   "source": [
    "### K-Means clustering "
   ]
  },
  {
   "cell_type": "code",
   "execution_count": 3,
   "metadata": {},
   "outputs": [],
   "source": [
    "#Normalizing function\n",
    "def normalize(vector):\n",
    "    for i in range(0,(vector.shape[1]-1)):\n",
    "        temp=vector.iloc[:,i].to_numpy()\n",
    "        vector.iloc[:,i]=(temp-np.mean(temp))/np.std(temp)\n",
    "    return vector"
   ]
  },
  {
   "cell_type": "code",
   "execution_count": 4,
   "metadata": {},
   "outputs": [
    {
     "name": "stdout",
     "output_type": "stream",
     "text": [
      "(150, 8)\n"
     ]
    }
   ],
   "source": [
    "root=\"/home/subhash/Desktop/spam/nnfl assignment/\"\n",
    "data=pd.read_excel(os.path.join(root,'data4.xlsx'),header=None)\n",
    "data=normalize(data)\n",
    "data=data.to_numpy()\n",
    "data[:,7]=data[:,7]-1\n",
    "np.random.shuffle(data)\n",
    "print(data.shape)\n",
    "#now we obtain the shuffled set of data convinient to split"
   ]
  },
  {
   "cell_type": "code",
   "execution_count": 5,
   "metadata": {},
   "outputs": [],
   "source": [
    "#splitting training and testing data with equal number of class data points\n",
    "def split_train_test(data,k):\n",
    "    folds=np.array_split(data,k)\n",
    "    return folds"
   ]
  },
  {
   "cell_type": "code",
   "execution_count": 6,
   "metadata": {},
   "outputs": [],
   "source": [
    "def split_classes(data):\n",
    "    y=data[:,-1]\n",
    "    class0=[]\n",
    "    class1=[]\n",
    "    class2=[]\n",
    "    classes=[]\n",
    "    for insts in range(0,data.shape[0]):\n",
    "        if (int(y[insts])==0):\n",
    "            class0.append(data[insts])\n",
    "        elif (int(y[insts])==1):\n",
    "            class1.append(data[insts])\n",
    "        else :\n",
    "            class2.append(data[insts])\n",
    "    c0=np.array(class0)\n",
    "    c1=np.array(class1)\n",
    "    c2=np.array(class2)\n",
    "    classes.append(c0)\n",
    "    classes.append(c1)\n",
    "    classes.append(c2)\n",
    "    return classes"
   ]
  },
  {
   "cell_type": "code",
   "execution_count": 7,
   "metadata": {},
   "outputs": [],
   "source": [
    "#splitting the data into features and class value\n",
    "def split_x_y(data):\n",
    "    y=(data[:,7]).reshape((data.shape[0],1))\n",
    "    x=np.delete(data,7,1)\n",
    "    return x,y"
   ]
  },
  {
   "cell_type": "code",
   "execution_count": 8,
   "metadata": {},
   "outputs": [],
   "source": [
    "#sigmoid function, takes in a single numerical value\n",
    "def sigmoid(x):\n",
    "    y=1/(1+np.exp(-x))\n",
    "    return y\n",
    "#returns a single numerical value"
   ]
  },
  {
   "cell_type": "code",
   "execution_count": 9,
   "metadata": {},
   "outputs": [],
   "source": [
    "def hypothesis(w,x):\n",
    "    hyps=[]\n",
    "    for insts in range(0,x.shape[0]):\n",
    "        h=np.dot(w.T,x[insts])\n",
    "        hyp=sigmoid(h)\n",
    "        hyps.append(hyp)\n",
    "    return hyps"
   ]
  },
  {
   "cell_type": "code",
   "execution_count": 10,
   "metadata": {},
   "outputs": [],
   "source": [
    "#likelyhood function\n",
    "def likely_func(hyps,y):\n",
    "    likes=[]\n",
    "    for insts in range(0,y.shape[0]):\n",
    "        like=(y[insts]*np.log(hyps[insts]))+((1-y[insts])*np.log(1-hyps[insts]))\n",
    "        likes.append(like)\n",
    "    return(np.array(likes))"
   ]
  },
  {
   "cell_type": "code",
   "execution_count": 11,
   "metadata": {},
   "outputs": [],
   "source": [
    "def costavg(errors):\n",
    "    costav=np.mean(errors)\n",
    "    return(costav)"
   ]
  },
  {
   "cell_type": "code",
   "execution_count": 12,
   "metadata": {},
   "outputs": [],
   "source": [
    "#derivative of likelyhood function\n",
    "def dervlikef(hyps,y,x):\n",
    "    deriv=[]\n",
    "    for insts in range(0,x.shape[0]):\n",
    "        hyps[insts]=np.reshape((hyps[insts]),(1,1))\n",
    "        derv=np.dot(np.reshape((x[insts]),(1,7)).T,((y[insts]*(1-hyps[insts])-((1-y[insts])*(hyps[insts])))))\n",
    "        deriv.append(derv)\n",
    "        dW=np.squeeze(np.mean(deriv,axis=0,keepdims=True)/2)\n",
    "        dW=np.reshape(dW,(x.shape[1],1))\n",
    "    return dW"
   ]
  },
  {
   "cell_type": "code",
   "execution_count": 13,
   "metadata": {},
   "outputs": [],
   "source": [
    "def update_parameters(w,dervlikef,alpha):\n",
    "    w=w+(alpha*dervlikef)\n",
    "    return w"
   ]
  },
  {
   "cell_type": "code",
   "execution_count": 14,
   "metadata": {},
   "outputs": [],
   "source": [
    "#ForOneVsAll\n",
    "def create_model(train,class_value):\n",
    "    model_insts=[]\n",
    "    count=0\n",
    "    classes=split_classes(train)\n",
    "    model_insts.append(classes[class_value])\n",
    "    for cls in range(0,len(classes)):\n",
    "        if cls!=class_value:\n",
    "            np.random.shuffle(classes[cls])\n",
    "            model_insts.append(classes[cls][:15,:])\n",
    "    model=np.concatenate((model_insts[0],model_insts[1],model_insts[2]),axis=0)\n",
    "    for insts in range(0,model.shape[0]):\n",
    "        if int(model[insts][-1])==class_value:\n",
    "            model[insts][-1]=1\n",
    "        else:\n",
    "            model[insts][-1]=0\n",
    "    np.random.shuffle(model)\n",
    "    return model"
   ]
  },
  {
   "cell_type": "code",
   "execution_count": 20,
   "metadata": {},
   "outputs": [],
   "source": [
    "def train(data,alpha,iters,k):\n",
    "    folds=split_train_test(data,k)\n",
    "    overall=[]\n",
    "    result=[]\n",
    "    sens=[]\n",
    "    spec=[]\n",
    "    acc=[]\n",
    "    ovaccu=[]\n",
    "    for fold in range(0,k):\n",
    "        sensitivity=[]\n",
    "        specificity=[]\n",
    "        accuracy=[]\n",
    "        train=[]\n",
    "        for fld in range(0,k):\n",
    "            if (fold==fld):\n",
    "                test=folds[fold]\n",
    "            else:\n",
    "                train.append(folds[fold])\n",
    "        train=np.array(train).reshape((int(data.shape[0]*(1-k)/k),8))\n",
    "        test=np.array(test).reshape((int(data.shape[0]/k),8))\n",
    "        x_train,y_train=split_x_y(train)\n",
    "        x_test,y_test=split_x_y(test)\n",
    "        for mod in range(0,3):\n",
    "            y_temp=[]\n",
    "            w=np.ones([7,1])\n",
    "            for i in range(0,iters):\n",
    "                for insts in range(0,(create_model(train,mod)).shape[0]):\n",
    "                    mod_train=create_model(train,mod)\n",
    "                    mod_x_train,mod_y_train=split_x_y(mod_train)\n",
    "                    deriv=dervlikef(hypothesis(w,mod_x_train),mod_y_train,mod_x_train)\n",
    "                    w=update_parameters(w,deriv,alpha)\n",
    "            y_cap=hypothesis(w,x_test)\n",
    "            result.append(y_cap)\n",
    "            for insts in range(0,np.array(y_cap).shape[0]):\n",
    "           \n",
    "                if (y_cap[insts]<0.5):\n",
    "                    y_cap[insts]=0\n",
    "                else:\n",
    "                    y_cap[insts]=1\n",
    "            for insts in range(0,y_test.shape[0]):\n",
    "                if y_test[insts]==mod:\n",
    "                    y_temp.append(1)\n",
    "                else:\n",
    "                    y_temp.append(0)\n",
    "            y_temp=np.array(y_temp).reshape(y_test.shape)\n",
    "            y_cap=np.array(y_cap).reshape(y_test.shape)\n",
    "            true_pos=0\n",
    "            true_neg=0\n",
    "            false_pos=0\n",
    "            false_neg=0\n",
    "            for insts in range(0,y_test.shape[0]):\n",
    "                if (y_temp[insts]==1):\n",
    "                    if (y_cap[insts]==1):\n",
    "                        true_pos=true_pos+1\n",
    "                    else:\n",
    "                        false_neg=false_neg+1\n",
    "                else:\n",
    "                    if (y_cap[insts]==0):\n",
    "                        true_neg=true_neg+1\n",
    "                    else:\n",
    "                        false_pos=false_pos+1\n",
    "            sensitivity.append(true_pos/(true_pos+false_neg))\n",
    "            specificity.append(true_neg/(true_neg+false_pos))\n",
    "            accuracy.append((true_pos+true_neg)/(true_pos+true_neg+false_pos+false_neg))\n",
    "        sens.append(sensitivity)\n",
    "        spec.append(specificity)\n",
    "        acc.append(accuracy)\n",
    "        results=np.array(result)\n",
    "        results=np.concatenate((results[0].reshape((30,1)),results[1].reshape((30,1)),results[2].reshape((30,1))),1)\n",
    "        count=0\n",
    "        for insts in range(y_cap.shape[0]):\n",
    "            oval=np.argmax(results[insts])\n",
    "            if oval==y_test[insts]:\n",
    "                count=count+1\n",
    "        ovacc=count/(y_cap.shape[0])\n",
    "        ovaccu.append(ovacc)\n",
    "    return sens,spec,acc,ovaccu\n",
    "        "
   ]
  },
  {
   "cell_type": "code",
   "execution_count": 21,
   "metadata": {},
   "outputs": [],
   "source": [
    "sens,spec,acc,ovacc=train(data,0.05,3,5)"
   ]
  },
  {
   "cell_type": "code",
   "execution_count": 22,
   "metadata": {},
   "outputs": [
    {
     "name": "stdout",
     "output_type": "stream",
     "text": [
      "[[1.0, 0.8888888888888888, 1.0], [1.0, 1.0, 0.8888888888888888], [1.0, 0.8888888888888888, 0.875], [1.0, 0.8888888888888888, 1.0], [1.0, 1.0, 1.0]]\n",
      "[[0.95, 0.47619047619047616, 0.8421052631578947], [0.9047619047619048, 0.5, 0.6190476190476191], [1.0, 0.7619047619047619, 0.9090909090909091], [1.0, 0.7619047619047619, 0.7777777777777778], [1.0, 0.47368421052631576, 0.65]]\n",
      "[[0.9666666666666667, 0.6, 0.9], [0.9333333333333333, 0.7, 0.7], [1.0, 0.8, 0.9], [1.0, 0.8, 0.8666666666666667], [1.0, 0.6666666666666666, 0.7666666666666667]]\n",
      "[0.5666666666666667, 0.4, 0.43333333333333335, 0.23333333333333334, 0.36666666666666664]\n"
     ]
    }
   ],
   "source": [
    "print(sens)\n",
    "print(spec)\n",
    "print(acc)\n",
    "print(ovacc)"
   ]
  },
  {
   "cell_type": "code",
   "execution_count": null,
   "metadata": {},
   "outputs": [],
   "source": []
  }
 ],
 "metadata": {
  "kernelspec": {
   "display_name": "Python 3",
   "language": "python",
   "name": "python3"
  },
  "language_info": {
   "codemirror_mode": {
    "name": "ipython",
    "version": 3
   },
   "file_extension": ".py",
   "mimetype": "text/x-python",
   "name": "python",
   "nbconvert_exporter": "python",
   "pygments_lexer": "ipython3",
   "version": "3.7.3"
  }
 },
 "nbformat": 4,
 "nbformat_minor": 2
}
