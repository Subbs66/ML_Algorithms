{
 "cells": [
  {
   "cell_type": "code",
   "execution_count": 1,
   "metadata": {
    "id": "F1jLmnUAhpx_"
   },
   "outputs": [],
   "source": [
    "import pandas as pd\n",
    "import numpy as np\n",
    "import matplotlib.pyplot as plt\n",
    "import os\n",
    "from mpl_toolkits import mplot3d\n",
    "from collections import Counter\n",
    "import math"
   ]
  },
  {
   "cell_type": "code",
   "execution_count": 2,
   "metadata": {
    "id": "OF2oD-Drh2Ax"
   },
   "outputs": [],
   "source": [
    "root = \"/home/subhash/Desktop/spam/nnfl assignment/\"\n",
    "data = pd.read_excel(os.path.join(root,'data4.xlsx'),header=None)"
   ]
  },
  {
   "cell_type": "code",
   "execution_count": 3,
   "metadata": {
    "id": "huZqUVVJh7iE"
   },
   "outputs": [],
   "source": [
    "def normalize(dataframe):\n",
    "    for i in range(0,dataframe.shape[1]-1):\n",
    "        arr = dataframe.iloc[:,i].to_numpy()\n",
    "        dataframe.iloc[:,i] = (arr - np.mean(arr))/np.std(arr)\n",
    "    return dataframe"
   ]
  },
  {
   "cell_type": "code",
   "execution_count": 4,
   "metadata": {
    "id": "MuoGJ8Zjh8bd"
   },
   "outputs": [],
   "source": [
    "data = normalize(data)\n",
    "data = data.to_numpy()"
   ]
  },
  {
   "cell_type": "code",
   "execution_count": 5,
   "metadata": {
    "id": "P3VcYrsZiBQY"
   },
   "outputs": [],
   "source": [
    "def test_train_split(data,test_ratio = 0.4):\n",
    "    splits = np.split(data[:, :], np.cumsum(np.unique(data[:, 7], return_counts=True)[1])[:-1])\n",
    "    splits[0][:,7] = np.zeros((1,50))\n",
    "    splits[1][:,7] = np.ones((1,50))\n",
    "    splits[2][:,7] = np.ones((1,50))*2\n",
    "    train_data = np.array((splits[0][:int(len(splits[0])*(1-test_ratio)),:],\n",
    "                                 splits[1][:int(len(splits[1])*(1-test_ratio)),:],\n",
    "                                 splits[2][:int(len(splits[2])*(1-test_ratio)),:]))\n",
    "    test_data = np.array((splits[0][int(len(splits[0])*(1-test_ratio)):,:],\n",
    "                                splits[1][int(len(splits[1])*(1-test_ratio)):,:],\n",
    "                                splits[2][int(len(splits[2])*(1-test_ratio)):,:]))\n",
    "    #np.random.shuffle(train_data)\n",
    "    #np.random.shuffle(test_data)\n",
    "    return train_data,test_data, splits"
   ]
  },
  {
   "cell_type": "code",
   "execution_count": 6,
   "metadata": {
    "colab": {
     "base_uri": "https://localhost:8080/",
     "height": 51
    },
    "id": "CBAF1oYyiEgp",
    "outputId": "09464e01-948e-4181-cb50-dff884ab8d2a"
   },
   "outputs": [
    {
     "name": "stdout",
     "output_type": "stream",
     "text": [
      "(3, 30, 8)\n",
      "(3, 20, 8)\n"
     ]
    }
   ],
   "source": [
    "train_data,test_data,splits = test_train_split(data)\n",
    "print(train_data.shape)\n",
    "print(test_data.shape)"
   ]
  },
  {
   "cell_type": "code",
   "execution_count": 9,
   "metadata": {
    "id": "eXT5eL1giFpg"
   },
   "outputs": [],
   "source": [
    "a1 = [np.mean(train_data[0][:,i]) for i in range(0,7)]\n",
    "a2 = [np.mean(train_data[1][:,i]) for i in range(0,7)]\n",
    "a3 = [np.mean(train_data[2][:,i]) for i in range(0,7)]\n",
    "\n",
    "e1 = np.dot(np.transpose(train_data[0][:,:7]),train_data[0][:,:7])\n",
    "e2 = np.dot(np.transpose(train_data[1][:,:7]),train_data[1][:,:7])\n",
    "e3 = np.dot(np.transpose(train_data[1][:,:7]),train_data[1][:,:7])\n",
    "det_e1 = np.linalg.det(e1)\n",
    "det_e2 = np.linalg.det(e2)\n",
    "det_e3 = np.linalg.det(e3)\n",
    "\n",
    "p1 = len(train_data[0])/(len(train_data[0])+len(train_data[1])+len(train_data[2]))\n",
    "p2 = len(train_data[1])/(len(train_data[0])+len(train_data[1])+len(train_data[2]))\n",
    "p3 = len(train_data[2])/(len(train_data[0])+len(train_data[1])+len(train_data[2]))"
   ]
  },
  {
   "cell_type": "code",
   "execution_count": 10,
   "metadata": {
    "id": "E-tln_ZsjgLA"
   },
   "outputs": [],
   "source": [
    "def MAP(train_data,test_data,p1,p2,p3,a1,a2,a3,e1,e2,e3,det_e1,det_e2,det_e3):\n",
    "\n",
    "    test_data = np.concatenate((test_data[0],test_data[1],test_data[2]),axis=0)\n",
    "    np.random.shuffle(test_data)\n",
    "    y_pred = np.zeros((60,1))\n",
    "\n",
    "    for i in range(len(test_data)):\n",
    "        x = test_data[i][0:7]\n",
    "        p_x1 = 1/((2*math.pi**1.5)*det_e1**-0.5)*np.exp(-0.5*(np.dot(np.dot(np.transpose(x-a1),np.linalg.inv(e1)),(x-a1))))\n",
    "        p_x2 = 1/((2*math.pi**1.5)*det_e2**-0.5)*np.exp(-0.5*(np.dot(np.dot(np.transpose(x-a2),np.linalg.inv(e2)),(x-a2))))\n",
    "        p_x3 = 1/((2*math.pi**1.5)*det_e3**-0.5)*np.exp(-0.5*(np.dot(np.dot(np.transpose(x-a3),np.linalg.inv(e3)),(x-a3))))\n",
    "\n",
    "        p_x = [p_x1*p1,p_x2*p2,p_x3*p3]\n",
    "        y_pred[i,0] = np.argmax(p_x)\n",
    "\n",
    "    return y_pred,test_data"
   ]
  },
  {
   "cell_type": "code",
   "execution_count": 11,
   "metadata": {
    "id": "qzjazxafnV_T"
   },
   "outputs": [],
   "source": [
    "y_pred,test_data = MAP(train_data,test_data,p1,p2,p3,a1,a2,a3,e1,e2,e3,det_e1,det_e2,det_e3)"
   ]
  },
  {
   "cell_type": "code",
   "execution_count": 12,
   "metadata": {
    "id": "PAs__owonuQH"
   },
   "outputs": [],
   "source": [
    "def test(y_pred,test_data):\n",
    "    conf_matrix = np.zeros((3,3))\n",
    "    ind_accuracy = np.zeros((1,3))\n",
    "    overall_accuracy = 0\n",
    "    for i in range(len(y_pred)):\n",
    "        conf_matrix[int(y_pred[i]),int(test_data[:,7][i])] += 1\n",
    "    for i in range(0,3):\n",
    "        ind_accuracy[0,i] = conf_matrix[i,i]/sum(conf_matrix[i,:])\n",
    "        overall_accuracy += conf_matrix[i,i]\n",
    "    overall_accuracy = overall_accuracy/60\n",
    "    return conf_matrix,ind_accuracy,overall_accuracy"
   ]
  },
  {
   "cell_type": "code",
   "execution_count": 13,
   "metadata": {
    "colab": {
     "base_uri": "https://localhost:8080/",
     "height": 119
    },
    "id": "cecpXQzW7Brm",
    "outputId": "20969bcf-c9a0-422f-e9fc-831ec731e9cb"
   },
   "outputs": [
    {
     "name": "stdout",
     "output_type": "stream",
     "text": [
      "Confusion matrix :\n",
      "[[ 5.  0.  0.]\n",
      " [15. 20.  5.]\n",
      " [ 0.  0. 15.]]\n",
      "individual accuracy : [[1.  0.5 1. ]]\n",
      "Overall accuracy:  0.67\n"
     ]
    }
   ],
   "source": [
    "conf_matrix,ind_accuracy,overall_accuracy = test(y_pred,test_data)\n",
    "print(\"Confusion matrix :\")\n",
    "print(conf_matrix)\n",
    "print(\"individual accuracy :\",ind_accuracy)\n",
    "print(\"Overall accuracy: \",np.round(overall_accuracy,decimals=2))"
   ]
  },
  {
   "cell_type": "code",
   "execution_count": null,
   "metadata": {},
   "outputs": [],
   "source": []
  }
 ],
 "metadata": {
  "colab": {
   "name": "Question_11.ipynb",
   "provenance": []
  },
  "kernelspec": {
   "display_name": "Python 3",
   "language": "python",
   "name": "python3"
  },
  "language_info": {
   "codemirror_mode": {
    "name": "ipython",
    "version": 3
   },
   "file_extension": ".py",
   "mimetype": "text/x-python",
   "name": "python",
   "nbconvert_exporter": "python",
   "pygments_lexer": "ipython3",
   "version": "3.7.3"
  }
 },
 "nbformat": 4,
 "nbformat_minor": 1
}
