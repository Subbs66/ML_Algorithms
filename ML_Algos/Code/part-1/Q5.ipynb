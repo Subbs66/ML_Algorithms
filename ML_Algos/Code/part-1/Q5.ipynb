{
 "cells": [
  {
   "cell_type": "code",
   "execution_count": 1,
   "metadata": {},
   "outputs": [],
   "source": [
    "#import all the necessory libraries\n",
    "import pandas as pd\n",
    "import numpy as np\n",
    "import matplotlib.pyplot as plt\n",
    "import os\n",
    "from mpl_toolkits import mplot3d"
   ]
  },
  {
   "cell_type": "code",
   "execution_count": 2,
   "metadata": {},
   "outputs": [
    {
     "name": "stdout",
     "output_type": "stream",
     "text": [
      "(104, 2)\n",
      "(245, 2)\n",
      "(245, 1)\n",
      "(104, 1)\n"
     ]
    }
   ],
   "source": [
    "#read all the needed files\n",
    "root=\"/home/subhash/Desktop/spam/nnfl assignment/\"\n",
    "train_feature_matrix=pd.read_excel(os.path.join(root,'training_feature_matrix.xlsx'),header=None)\n",
    "train_output=pd.read_excel(os.path.join(root,'training_output.xlsx'),header=None)\n",
    "test_feature_matrix=pd.read_excel(os.path.join(root,'test_feature_matrix.xlsx'),header=None)\n",
    "test_output=pd.read_excel(os.path.join(root,'test_output.xlsx'),header=None)\n",
    "print(test_feature_matrix.shape)\n",
    "print(train_feature_matrix.shape)\n",
    "print(train_output.shape)\n",
    "print(test_output.shape)"
   ]
  },
  {
   "cell_type": "code",
   "execution_count": 3,
   "metadata": {},
   "outputs": [],
   "source": [
    "#Normalizing function\n",
    "def normalize(vector):\n",
    "    for i in range(0,vector.shape[1]):\n",
    "        temp=vector.iloc[:,i].to_numpy()\n",
    "        vector.iloc[:,i]=(temp-np.mean(temp))/np.std(temp)\n",
    "    return vector"
   ]
  },
  {
   "cell_type": "code",
   "execution_count": 4,
   "metadata": {},
   "outputs": [],
   "source": [
    "#Normalize all the datasets\n",
    "x_train=normalize(train_feature_matrix)\n",
    "x_test=normalize(test_feature_matrix)\n",
    "y_train=normalize(train_output)\n",
    "y_test=normalize(test_output)"
   ]
  },
  {
   "cell_type": "code",
   "execution_count": 5,
   "metadata": {},
   "outputs": [],
   "source": [
    "#concatenating the feature matrix,i.e suitable for algorithm\n",
    "train_padding=pd.DataFrame(np.ones(shape=train_output.shape))\n",
    "test_padding=pd.DataFrame(np.ones(shape=test_output.shape))\n",
    "x_train=pd.concat([train_padding,train_feature_matrix],axis=1)\n",
    "x_test=pd.concat([test_padding,test_feature_matrix],axis=1)"
   ]
  },
  {
   "cell_type": "code",
   "execution_count": 6,
   "metadata": {},
   "outputs": [
    {
     "name": "stdout",
     "output_type": "stream",
     "text": [
      "       0         0         1\n",
      "0    1.0  0.140090  0.137886\n",
      "1    1.0  0.119183 -0.142367\n",
      "2    1.0  0.091307 -0.586016\n",
      "3    1.0  0.119183  0.027232\n",
      "4    1.0  0.216749  1.051036\n",
      "..   ...       ...       ...\n",
      "240  1.0  0.108730 -0.865235\n",
      "241  1.0  0.126152 -0.647030\n",
      "242  1.0  0.206295  0.722178\n",
      "243  1.0  0.171450 -0.224065\n",
      "244  1.0  0.084338 -1.477449\n",
      "\n",
      "[245 rows x 3 columns]\n",
      "            0\n",
      "0   -0.834236\n",
      "1   -0.908720\n",
      "2   -1.399072\n",
      "3   -1.541833\n",
      "4   -1.641144\n",
      "..        ...\n",
      "240 -0.021121\n",
      "241 -0.076984\n",
      "242 -1.560454\n",
      "243 -1.535626\n",
      "244 -1.467349\n",
      "\n",
      "[245 rows x 1 columns]\n",
      "       0         0         1\n",
      "0    1.0  0.348400  1.071360\n",
      "1    1.0  0.348400  0.954460\n",
      "2    1.0  0.338739  0.498990\n",
      "3    1.0  0.332299  0.167037\n",
      "4    1.0  0.329079 -0.100952\n",
      "..   ...       ...       ...\n",
      "99   1.0  0.324249 -1.134306\n",
      "100  1.0  0.324249 -1.049388\n",
      "101  1.0  0.321029 -1.327302\n",
      "102  1.0  0.321029 -1.240178\n",
      "103  1.0  0.322639 -1.176214\n",
      "\n",
      "[104 rows x 3 columns]\n",
      "            0\n",
      "0    1.117465\n",
      "1    0.569968\n",
      "2    0.661218\n",
      "3    0.676426\n",
      "4    0.372261\n",
      "..        ...\n",
      "99  -0.585859\n",
      "100 -0.357735\n",
      "101 -0.448985\n",
      "102 -0.099195\n",
      "103 -1.528770\n",
      "\n",
      "[104 rows x 1 columns]\n",
      "(245, 3)\n",
      "(245, 1)\n",
      "(104, 3)\n",
      "(104, 1)\n"
     ]
    }
   ],
   "source": [
    "#check the data u endup to\n",
    "print(x_train)\n",
    "print(y_train)\n",
    "print(x_test)\n",
    "print(y_test)\n",
    "print(x_train.shape)\n",
    "print(y_train.shape)\n",
    "print(x_test.shape)\n",
    "print(y_test.shape)"
   ]
  },
  {
   "cell_type": "code",
   "execution_count": 7,
   "metadata": {},
   "outputs": [],
   "source": [
    "x_train = (x_train.to_numpy()).reshape((245,3))\n",
    "y_train = (y_train.to_numpy()).reshape((245,1))\n",
    "x_test = (x_test.to_numpy()).reshape((104,3))\n",
    "y_test = (y_test.to_numpy()).reshape((104,1))"
   ]
  },
  {
   "cell_type": "markdown",
   "metadata": {},
   "source": [
    "### Vectorization based linear regression"
   ]
  },
  {
   "cell_type": "code",
   "execution_count": 8,
   "metadata": {},
   "outputs": [
    {
     "name": "stdout",
     "output_type": "stream",
     "text": [
      "[[-2.02962647e-16]\n",
      " [ 4.30528649e-02]\n",
      " [ 2.58988001e-01]]\n"
     ]
    }
   ],
   "source": [
    "w=np.linalg.inv(np.dot((x_train.T),(x_train)))\n",
    "w=np.dot(w,(x_train.T))\n",
    "w=np.dot(w,y_train)\n",
    "print(w)"
   ]
  },
  {
   "cell_type": "markdown",
   "metadata": {},
   "source": [
    "### Vectorization bse ridge regression "
   ]
  },
  {
   "cell_type": "code",
   "execution_count": 9,
   "metadata": {},
   "outputs": [
    {
     "name": "stdout",
     "output_type": "stream",
     "text": [
      "give lamda0.05\n",
      "[[-2.02962647e-16]\n",
      " [ 4.30528649e-02]\n",
      " [ 2.58988001e-01]]\n"
     ]
    }
   ],
   "source": [
    "lamda=input(\"give lamda\")\n",
    "w=np.linalg.inv(np.dot((x_train.T),(x_train)))\n",
    "iden=np.identity(w.shape[0],dtype = float)\n",
    "for i in range(0,w.shape[0]):\n",
    "    for j in range(0,w.shape[1]):\n",
    "        if i==j:\n",
    "            iden[i][j]=lamda\n",
    "w=np.dot(w,(x_train.T))\n",
    "w=np.dot(w,y_train)\n",
    "print(w)"
   ]
  },
  {
   "cell_type": "code",
   "execution_count": null,
   "metadata": {},
   "outputs": [],
   "source": []
  }
 ],
 "metadata": {
  "kernelspec": {
   "display_name": "Python 3",
   "language": "python",
   "name": "python3"
  },
  "language_info": {
   "codemirror_mode": {
    "name": "ipython",
    "version": 3
   },
   "file_extension": ".py",
   "mimetype": "text/x-python",
   "name": "python",
   "nbconvert_exporter": "python",
   "pygments_lexer": "ipython3",
   "version": "3.7.3"
  }
 },
 "nbformat": 4,
 "nbformat_minor": 2
}
