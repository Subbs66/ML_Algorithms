{
 "cells": [
  {
   "cell_type": "code",
   "execution_count": 1,
   "metadata": {
    "executionInfo": {
     "elapsed": 997,
     "status": "ok",
     "timestamp": 1602081655214,
     "user": {
      "displayName": "PHANINDRA RAMINENI",
      "photoUrl": "",
      "userId": "03991256760735395733"
     },
     "user_tz": -330
    },
    "id": "umKrJtzDGxN0"
   },
   "outputs": [],
   "source": [
    "import pandas as pd\n",
    "import numpy as np\n",
    "import matplotlib.pyplot as plt\n",
    "import os\n",
    "from mpl_toolkits import mplot3d\n",
    "from collections import Counter\n",
    "import math"
   ]
  },
  {
   "cell_type": "code",
   "execution_count": 8,
   "metadata": {
    "executionInfo": {
     "elapsed": 957,
     "status": "ok",
     "timestamp": 1602081656613,
     "user": {
      "displayName": "PHANINDRA RAMINENI",
      "photoUrl": "",
      "userId": "03991256760735395733"
     },
     "user_tz": -330
    },
    "id": "LEpSoyHOHDGW"
   },
   "outputs": [],
   "source": [
    "root = \"/home/subhash/Desktop/spam/nnfl assignment\"\n",
    "data = pd.read_excel(os.path.join(root,'data3.xlsx'),header=None)"
   ]
  },
  {
   "cell_type": "code",
   "execution_count": 9,
   "metadata": {
    "executionInfo": {
     "elapsed": 830,
     "status": "ok",
     "timestamp": 1602081657726,
     "user": {
      "displayName": "PHANINDRA RAMINENI",
      "photoUrl": "",
      "userId": "03991256760735395733"
     },
     "user_tz": -330
    },
    "id": "bD7LlkoDHHtE"
   },
   "outputs": [],
   "source": [
    "def normalize(data):\n",
    "    for i in range(0,data.shape[1]-1):\n",
    "        arr = data.iloc[:,i].to_numpy()\n",
    "        data.iloc[:,i] = (arr - np.mean(arr))/np.std(arr)\n",
    "    return data"
   ]
  },
  {
   "cell_type": "code",
   "execution_count": 10,
   "metadata": {
    "executionInfo": {
     "elapsed": 862,
     "status": "ok",
     "timestamp": 1602081659007,
     "user": {
      "displayName": "PHANINDRA RAMINENI",
      "photoUrl": "",
      "userId": "03991256760735395733"
     },
     "user_tz": -330
    },
    "id": "3OpMc3_dHKy_"
   },
   "outputs": [],
   "source": [
    "data = normalize(data)\n",
    "data = data.to_numpy()"
   ]
  },
  {
   "cell_type": "code",
   "execution_count": 11,
   "metadata": {
    "executionInfo": {
     "elapsed": 999,
     "status": "ok",
     "timestamp": 1602081660355,
     "user": {
      "displayName": "PHANINDRA RAMINENI",
      "photoUrl": "",
      "userId": "03991256760735395733"
     },
     "user_tz": -330
    },
    "id": "l4yYTXosHLd3"
   },
   "outputs": [],
   "source": [
    "def test_train_split(data,test_ratio = 0.4):\n",
    "    splits = np.split(data[:, :], np.cumsum(np.unique(data[:, 4], return_counts=True)[1])[:-1])\n",
    "    splits[0][:,4] = np.zeros((1,50))\n",
    "    splits[1][:,4] = np.ones((1,50))\n",
    "    train_data = np.array((splits[0][:int(len(splits[0])*(1-test_ratio)),:],splits[1][:int(len(splits[1])*(1-test_ratio)),:]))\n",
    "    test_data = np.array((splits[0][int(len(splits[0])*(1-test_ratio)):,:],splits[1][int(len(splits[1])*(1-test_ratio)):,:]))\n",
    "    np.random.shuffle(train_data)\n",
    "    np.random.shuffle(test_data)\n",
    "    return train_data,test_data"
   ]
  },
  {
   "cell_type": "code",
   "execution_count": 12,
   "metadata": {
    "colab": {
     "base_uri": "https://localhost:8080/"
    },
    "executionInfo": {
     "elapsed": 1020,
     "status": "ok",
     "timestamp": 1602081662903,
     "user": {
      "displayName": "PHANINDRA RAMINENI",
      "photoUrl": "",
      "userId": "03991256760735395733"
     },
     "user_tz": -330
    },
    "id": "a99qu4vpHPYe",
    "outputId": "d6e296d2-981a-4272-a982-ee5f2bcc42b4"
   },
   "outputs": [
    {
     "name": "stdout",
     "output_type": "stream",
     "text": [
      "(2, 30, 5)\n",
      "(2, 20, 5)\n"
     ]
    }
   ],
   "source": [
    "train_data,test_data = test_train_split(data)\n",
    "print(train_data.shape)\n",
    "print(test_data.shape)"
   ]
  },
  {
   "cell_type": "code",
   "execution_count": 13,
   "metadata": {
    "executionInfo": {
     "elapsed": 770,
     "status": "ok",
     "timestamp": 1602081664227,
     "user": {
      "displayName": "PHANINDRA RAMINENI",
      "photoUrl": "",
      "userId": "03991256760735395733"
     },
     "user_tz": -330
    },
    "id": "u8a1YbmwHTb0"
   },
   "outputs": [],
   "source": [
    "a1 = [np.mean(train_data[0][:,i]) for i in range(0,4)]\n",
    "a2 = [np.mean(train_data[1][:,i]) for i in range(0,4)]\n",
    "\n",
    "e1 = np.dot(np.transpose(train_data[0][:,:4]),train_data[0][:,:4])\n",
    "e2 = np.dot(np.transpose(train_data[1][:,:4]),train_data[1][:,:4])\n",
    "det_e1 = np.linalg.det(e1)\n",
    "det_e2 = np.linalg.det(e2)\n",
    "\n",
    "p1 = len(train_data[0])/(len(train_data[0])+len(train_data[1]))\n",
    "p2 = len(train_data[1])/(len(train_data[0])+len(train_data[1]))"
   ]
  },
  {
   "cell_type": "code",
   "execution_count": 14,
   "metadata": {
    "executionInfo": {
     "elapsed": 1208,
     "status": "ok",
     "timestamp": 1602081666782,
     "user": {
      "displayName": "PHANINDRA RAMINENI",
      "photoUrl": "",
      "userId": "03991256760735395733"
     },
     "user_tz": -330
    },
    "id": "emckv1lhLQs7"
   },
   "outputs": [],
   "source": [
    "def LRT(train_data,test_data,p1,p2,a1,a2,e1,e2,det_e1,det_e2):\n",
    "\n",
    "    test_data = np.concatenate((test_data[0],test_data[1]),axis=0)\n",
    "    np.random.shuffle(test_data)\n",
    "    y_pred = np.zeros((40,1))\n",
    "\n",
    "    for i in range(len(test_data)):\n",
    "        x = test_data[i][0:4]\n",
    "        p_x1 = 1/(((2*math.pi)**0.5)*(det_e1))*np.exp(np.dot(np.transpose(-0.5*(x-a1)),np.dot(np.linalg.pinv(e1),(x-a1))))\n",
    "        p_x2 = 1/(((2*math.pi)**0.5)*(det_e1))*np.exp(np.dot(np.transpose(-0.5*(x-a2)),np.dot(np.linalg.pinv(e2),(x-a2))))\n",
    "        p_x = [p_x1/p_x2,p1/p2]\n",
    "        y_pred[i,0] = np.argmax(p_x)\n",
    "\n",
    "    return y_pred,test_data"
   ]
  },
  {
   "cell_type": "code",
   "execution_count": 16,
   "metadata": {
    "executionInfo": {
     "elapsed": 935,
     "status": "ok",
     "timestamp": 1602081668764,
     "user": {
      "displayName": "PHANINDRA RAMINENI",
      "photoUrl": "",
      "userId": "03991256760735395733"
     },
     "user_tz": -330
    },
    "id": "UUCeTKgRRBmR"
   },
   "outputs": [],
   "source": [
    "y_pred,test_data = LRT(train_data,test_data,p1,p2,a1,a2,e1,e2,det_e1,det_e2)"
   ]
  },
  {
   "cell_type": "code",
   "execution_count": 17,
   "metadata": {
    "executionInfo": {
     "elapsed": 855,
     "status": "ok",
     "timestamp": 1602081669959,
     "user": {
      "displayName": "PHANINDRA RAMINENI",
      "photoUrl": "",
      "userId": "03991256760735395733"
     },
     "user_tz": -330
    },
    "id": "t9d-AgJTROga"
   },
   "outputs": [],
   "source": [
    "def test(y_pred,y_test):\n",
    "    y_test = y_test.reshape((40,1))\n",
    "    error = (y_test-np.rint(y_pred)).tolist()\n",
    "    sum = (y_test+np.rint(y_pred)).tolist()\n",
    "    FN = error.count([1.0])\n",
    "    FP = error.count([-1.0])\n",
    "    TN = sum.count([0.0])\n",
    "    TP = sum.count([2.0])\n",
    "    accuracy = (TP+TN)/(TP+TN+FP+FN)\n",
    "    sensitivity = TP/(TP+FN)\n",
    "    specificity = TN/(FP+TN)\n",
    "    confusion_matrix = np.array([[TN,FP],[FN,TP]])\n",
    "    return confusion_matrix,accuracy, sensitivity, specificity"
   ]
  },
  {
   "cell_type": "code",
   "execution_count": 18,
   "metadata": {
    "executionInfo": {
     "elapsed": 1202,
     "status": "ok",
     "timestamp": 1602081672731,
     "user": {
      "displayName": "PHANINDRA RAMINENI",
      "photoUrl": "",
      "userId": "03991256760735395733"
     },
     "user_tz": -330
    },
    "id": "tRQTL7OERRJS"
   },
   "outputs": [],
   "source": [
    "confusion_matrix,accuracy, sensitivity, specificity = test(y_pred,test_data[:,4])"
   ]
  },
  {
   "cell_type": "code",
   "execution_count": 19,
   "metadata": {
    "colab": {
     "base_uri": "https://localhost:8080/"
    },
    "executionInfo": {
     "elapsed": 1009,
     "status": "ok",
     "timestamp": 1602081673828,
     "user": {
      "displayName": "PHANINDRA RAMINENI",
      "photoUrl": "",
      "userId": "03991256760735395733"
     },
     "user_tz": -330
    },
    "id": "IP8ivmtoaMgu",
    "outputId": "a143aef3-fd48-45ed-9281-b2b6aed290eb"
   },
   "outputs": [
    {
     "name": "stdout",
     "output_type": "stream",
     "text": [
      "Test accuracy:  0.125\n",
      "Test sensitivity:  0.0\n",
      "Test specificity:  0.25\n",
      "Confusion matrix: \n",
      "[[ 5 15]\n",
      " [20  0]]\n"
     ]
    }
   ],
   "source": [
    "print(\"Test accuracy: \",accuracy)\n",
    "print(\"Test sensitivity: \",sensitivity)\n",
    "print(\"Test specificity: \",specificity)\n",
    "print(\"Confusion matrix: \")\n",
    "print(confusion_matrix)"
   ]
  },
  {
   "cell_type": "code",
   "execution_count": null,
   "metadata": {},
   "outputs": [],
   "source": []
  }
 ],
 "metadata": {
  "colab": {
   "authorship_tag": "ABX9TyMEOTJBvM96ro7xe48ae6D5",
   "collapsed_sections": [],
   "name": "Question_10.ipynb",
   "provenance": []
  },
  "kernelspec": {
   "display_name": "Python 3",
   "language": "python",
   "name": "python3"
  },
  "language_info": {
   "codemirror_mode": {
    "name": "ipython",
    "version": 3
   },
   "file_extension": ".py",
   "mimetype": "text/x-python",
   "name": "python",
   "nbconvert_exporter": "python",
   "pygments_lexer": "ipython3",
   "version": "3.7.3"
  }
 },
 "nbformat": 4,
 "nbformat_minor": 1
}
