{
 "cells": [
  {
   "cell_type": "code",
   "execution_count": 1,
   "metadata": {
    "executionInfo": {
     "elapsed": 1417,
     "status": "ok",
     "timestamp": 1602140281345,
     "user": {
      "displayName": "PHANINDRA RAMINENI",
      "photoUrl": "",
      "userId": "03991256760735395733"
     },
     "user_tz": -330
    },
    "id": "F1jLmnUAhpx_"
   },
   "outputs": [],
   "source": [
    "import pandas as pd\n",
    "import numpy as np\n",
    "import matplotlib.pyplot as plt\n",
    "import os\n",
    "from mpl_toolkits import mplot3d\n",
    "from collections import Counter\n",
    "import math"
   ]
  },
  {
   "cell_type": "code",
   "execution_count": 2,
   "metadata": {
    "executionInfo": {
     "elapsed": 1019,
     "status": "ok",
     "timestamp": 1602140282843,
     "user": {
      "displayName": "PHANINDRA RAMINENI",
      "photoUrl": "",
      "userId": "03991256760735395733"
     },
     "user_tz": -330
    },
    "id": "OF2oD-Drh2Ax"
   },
   "outputs": [],
   "source": [
    "root = \"/home/subhash/Desktop/spam/nnfl assignment/\"\n",
    "data = pd.read_excel(os.path.join(root,'data4.xlsx'),header=None)"
   ]
  },
  {
   "cell_type": "code",
   "execution_count": 3,
   "metadata": {
    "executionInfo": {
     "elapsed": 851,
     "status": "ok",
     "timestamp": 1602140284122,
     "user": {
      "displayName": "PHANINDRA RAMINENI",
      "photoUrl": "",
      "userId": "03991256760735395733"
     },
     "user_tz": -330
    },
    "id": "huZqUVVJh7iE"
   },
   "outputs": [],
   "source": [
    "def normalize(data):\n",
    "    for i in range(0,data.shape[1]-1):\n",
    "        arr = data.iloc[:,i].to_numpy()\n",
    "        data.iloc[:,i] = (arr - np.mean(arr))/np.std(arr)\n",
    "    return data"
   ]
  },
  {
   "cell_type": "code",
   "execution_count": 4,
   "metadata": {
    "executionInfo": {
     "elapsed": 1283,
     "status": "ok",
     "timestamp": 1602140286155,
     "user": {
      "displayName": "PHANINDRA RAMINENI",
      "photoUrl": "",
      "userId": "03991256760735395733"
     },
     "user_tz": -330
    },
    "id": "MuoGJ8Zjh8bd"
   },
   "outputs": [],
   "source": [
    "data = normalize(data)\n",
    "data = data.to_numpy()"
   ]
  },
  {
   "cell_type": "code",
   "execution_count": 5,
   "metadata": {
    "executionInfo": {
     "elapsed": 771,
     "status": "ok",
     "timestamp": 1602140287700,
     "user": {
      "displayName": "PHANINDRA RAMINENI",
      "photoUrl": "",
      "userId": "03991256760735395733"
     },
     "user_tz": -330
    },
    "id": "P3VcYrsZiBQY"
   },
   "outputs": [],
   "source": [
    "def test_train_split(data,test_ratio = 0.4):\n",
    "    splits = np.split(data[:, :], np.cumsum(np.unique(data[:, 7], return_counts=True)[1])[:-1])\n",
    "    splits[0][:,7] = np.zeros((1,50))\n",
    "    splits[1][:,7] = np.ones((1,50))\n",
    "    splits[2][:,7] = np.ones((1,50))*2\n",
    "    train_data = np.array((splits[0][:int(len(splits[0])*(1-test_ratio)),:],\n",
    "                                 splits[1][:int(len(splits[1])*(1-test_ratio)),:],\n",
    "                                 splits[2][:int(len(splits[2])*(1-test_ratio)),:]))\n",
    "    test_data = np.array((splits[0][int(len(splits[0])*(1-test_ratio)):,:],\n",
    "                                splits[1][int(len(splits[1])*(1-test_ratio)):,:],\n",
    "                                splits[2][int(len(splits[2])*(1-test_ratio)):,:]))\n",
    "    #np.random.shuffle(train_data)\n",
    "    #np.random.shuffle(test_data)\n",
    "    return train_data,test_data, splits"
   ]
  },
  {
   "cell_type": "code",
   "execution_count": 6,
   "metadata": {
    "colab": {
     "base_uri": "https://localhost:8080/",
     "height": 51
    },
    "executionInfo": {
     "elapsed": 1530,
     "status": "ok",
     "timestamp": 1602140290975,
     "user": {
      "displayName": "PHANINDRA RAMINENI",
      "photoUrl": "",
      "userId": "03991256760735395733"
     },
     "user_tz": -330
    },
    "id": "CBAF1oYyiEgp",
    "outputId": "5fb48ef0-cb24-44ae-fb3c-e23721e4286e"
   },
   "outputs": [
    {
     "name": "stdout",
     "output_type": "stream",
     "text": [
      "(3, 30, 8)\n",
      "(3, 20, 8)\n"
     ]
    }
   ],
   "source": [
    "train_data,test_data,splits = test_train_split(data)\n",
    "print(train_data.shape)\n",
    "print(test_data.shape)"
   ]
  },
  {
   "cell_type": "code",
   "execution_count": 7,
   "metadata": {
    "executionInfo": {
     "elapsed": 1318,
     "status": "ok",
     "timestamp": 1602140293731,
     "user": {
      "displayName": "PHANINDRA RAMINENI",
      "photoUrl": "",
      "userId": "03991256760735395733"
     },
     "user_tz": -330
    },
    "id": "eXT5eL1giFpg"
   },
   "outputs": [],
   "source": [
    "u1 = [np.mean(train_data[0][:,i]) for i in range(0,7)]\n",
    "u2 = [np.mean(train_data[1][:,i]) for i in range(0,7)]\n",
    "u3 = [np.mean(train_data[2][:,i]) for i in range(0,7)]\n",
    "\n",
    "E1 = np.dot(np.transpose(train_data[0][:,:7]),train_data[0][:,:7])\n",
    "E2 = np.dot(np.transpose(train_data[1][:,:7]),train_data[1][:,:7])\n",
    "E3 = np.dot(np.transpose(train_data[1][:,:7]),train_data[1][:,:7])\n",
    "det_E1 = np.linalg.det(E1)\n",
    "det_E2 = np.linalg.det(E2)\n",
    "det_E3 = np.linalg.det(E3)"
   ]
  },
  {
   "cell_type": "code",
   "execution_count": 8,
   "metadata": {
    "executionInfo": {
     "elapsed": 1354,
     "status": "ok",
     "timestamp": 1602140318000,
     "user": {
      "displayName": "PHANINDRA RAMINENI",
      "photoUrl": "",
      "userId": "03991256760735395733"
     },
     "user_tz": -330
    },
    "id": "E-tln_ZsjgLA"
   },
   "outputs": [],
   "source": [
    "def MAP(train_data,test_data,u1,u2,u3,E1,E2,E3,det_E1,det_E2,det_E3):\n",
    "\n",
    "    test_data = np.concatenate((test_data[0],test_data[1],test_data[2]),axis=0)\n",
    "    np.random.shuffle(test_data)\n",
    "    y_pred = np.zeros((60,1))\n",
    "\n",
    "    for i in range(len(test_data)):\n",
    "        x = test_data[i][0:7]\n",
    "        p_x1 = 1/((2*math.pi**2)*det_E1**-0.5)*np.exp(-0.5*(np.dot(np.dot(np.transpose(x-u1),np.linalg.inv(E1)),(x-u1))))\n",
    "        p_x2 = 1/((2*math.pi**2)*det_E2**-0.5)*np.exp(-0.5*(np.dot(np.dot(np.transpose(x-u2),np.linalg.inv(E2)),(x-u2))))\n",
    "        p_x3 = 1/((2*math.pi**2)*det_E3**-0.5)*np.exp(-0.5*(np.dot(np.dot(np.transpose(x-u3),np.linalg.inv(E3)),(x-u3))))\n",
    "\n",
    "        p_x = [p_x1,p_x2,p_x3]\n",
    "        y_pred[i,0] = np.argmax(p_x)\n",
    "\n",
    "    return y_pred,test_data"
   ]
  },
  {
   "cell_type": "code",
   "execution_count": 9,
   "metadata": {
    "executionInfo": {
     "elapsed": 1252,
     "status": "ok",
     "timestamp": 1602140326908,
     "user": {
      "displayName": "PHANINDRA RAMINENI",
      "photoUrl": "",
      "userId": "03991256760735395733"
     },
     "user_tz": -330
    },
    "id": "qzjazxafnV_T"
   },
   "outputs": [],
   "source": [
    "y_pred,test_data = MAP(train_data,test_data,u1,u2,u3,E1,E2,E3,det_E1,det_E2,det_E3)"
   ]
  },
  {
   "cell_type": "code",
   "execution_count": 10,
   "metadata": {
    "executionInfo": {
     "elapsed": 1273,
     "status": "ok",
     "timestamp": 1602140330780,
     "user": {
      "displayName": "PHANINDRA RAMINENI",
      "photoUrl": "",
      "userId": "03991256760735395733"
     },
     "user_tz": -330
    },
    "id": "PAs__owonuQH"
   },
   "outputs": [],
   "source": [
    "def test(y_pred,test_data):\n",
    "    conf_matrix = np.zeros((3,3))\n",
    "    ind_accuracy = np.zeros((1,3))\n",
    "    overall_accuracy = 0\n",
    "    for i in range(len(y_pred)):\n",
    "        conf_matrix[int(y_pred[i]),int(test_data[:,7][i])] += 1\n",
    "    for i in range(0,3):\n",
    "        ind_accuracy[0,i] = conf_matrix[i,i]/sum(conf_matrix[i,:])\n",
    "        overall_accuracy += conf_matrix[i,i]\n",
    "    overall_accuracy = overall_accuracy/60\n",
    "    return conf_matrix,ind_accuracy,overall_accuracy"
   ]
  },
  {
   "cell_type": "code",
   "execution_count": 11,
   "metadata": {
    "colab": {
     "base_uri": "https://localhost:8080/",
     "height": 119
    },
    "executionInfo": {
     "elapsed": 1352,
     "status": "ok",
     "timestamp": 1602140333565,
     "user": {
      "displayName": "PHANINDRA RAMINENI",
      "photoUrl": "",
      "userId": "03991256760735395733"
     },
     "user_tz": -330
    },
    "id": "cecpXQzW7Brm",
    "outputId": "a904c360-267a-45d7-b90e-ca33fd5f4127"
   },
   "outputs": [
    {
     "name": "stdout",
     "output_type": "stream",
     "text": [
      "Confusion matrix :\n",
      "[[ 5.  0.  0.]\n",
      " [15. 20.  5.]\n",
      " [ 0.  0. 15.]]\n",
      "individual accuracy : [[1.  0.5 1. ]]\n",
      "Overall accuracy:  0.67\n"
     ]
    }
   ],
   "source": [
    "conf_matrix,ind_accuracy,overall_accuracy = test(y_pred,test_data)\n",
    "print(\"Confusion matrix :\")\n",
    "print(conf_matrix)\n",
    "print(\"individual accuracy :\",ind_accuracy)\n",
    "print(\"Overall accuracy: \",np.round(overall_accuracy,decimals=2))"
   ]
  },
  {
   "cell_type": "code",
   "execution_count": null,
   "metadata": {},
   "outputs": [],
   "source": []
  }
 ],
 "metadata": {
  "colab": {
   "collapsed_sections": [],
   "name": "Question_12.ipynb",
   "provenance": []
  },
  "kernelspec": {
   "display_name": "Python 3",
   "language": "python",
   "name": "python3"
  },
  "language_info": {
   "codemirror_mode": {
    "name": "ipython",
    "version": 3
   },
   "file_extension": ".py",
   "mimetype": "text/x-python",
   "name": "python",
   "nbconvert_exporter": "python",
   "pygments_lexer": "ipython3",
   "version": "3.7.3"
  }
 },
 "nbformat": 4,
 "nbformat_minor": 1
}
